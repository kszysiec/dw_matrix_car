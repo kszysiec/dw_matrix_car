{
  "nbformat": 4,
  "nbformat_minor": 0,
  "metadata": {
    "colab": {
      "name": "day4_xgboost.ipynb",
      "provenance": [],
      "collapsed_sections": [],
      "mount_file_id": "1I5Lt0K0cgPhGxB0T-ghIpra-kLtLZvf0",
      "authorship_tag": "ABX9TyOXL9oIy08RmHuFZ2YuVhkz",
      "include_colab_link": true
    },
    "kernelspec": {
      "name": "python3",
      "display_name": "Python 3"
    }
  },
  "cells": [
    {
      "cell_type": "markdown",
      "metadata": {
        "id": "view-in-github",
        "colab_type": "text"
      },
      "source": [
        "<a href=\"https://colab.research.google.com/github/kszysiec/dw_matrix_car/blob/master/day4_xgboost.ipynb\" target=\"_parent\"><img src=\"https://colab.research.google.com/assets/colab-badge.svg\" alt=\"Open In Colab\"/></a>"
      ]
    },
    {
      "cell_type": "code",
      "metadata": {
        "id": "_mDBTpjT8unz",
        "colab_type": "code",
        "outputId": "711bf51e-68d5-48cd-81c0-463292a4d6a4",
        "colab": {
          "base_uri": "https://localhost:8080/",
          "height": 530
        }
      },
      "source": [
        "!pip install --upgrade tables\n",
        "!pip install eli5\n",
        "!pip install xgboost"
      ],
      "execution_count": 0,
      "outputs": [
        {
          "output_type": "stream",
          "text": [
            "Collecting tables\n",
            "\u001b[?25l  Downloading https://files.pythonhosted.org/packages/ed/c3/8fd9e3bb21872f9d69eb93b3014c86479864cca94e625fd03713ccacec80/tables-3.6.1-cp36-cp36m-manylinux1_x86_64.whl (4.3MB)\n",
            "\u001b[K     |████████████████████████████████| 4.3MB 2.7MB/s \n",
            "\u001b[?25hRequirement already satisfied, skipping upgrade: numpy>=1.9.3 in /usr/local/lib/python3.6/dist-packages (from tables) (1.17.5)\n",
            "Requirement already satisfied, skipping upgrade: numexpr>=2.6.2 in /usr/local/lib/python3.6/dist-packages (from tables) (2.7.1)\n",
            "Installing collected packages: tables\n",
            "  Found existing installation: tables 3.4.4\n",
            "    Uninstalling tables-3.4.4:\n",
            "      Successfully uninstalled tables-3.4.4\n",
            "Successfully installed tables-3.6.1\n",
            "Collecting eli5\n",
            "\u001b[?25l  Downloading https://files.pythonhosted.org/packages/97/2f/c85c7d8f8548e460829971785347e14e45fa5c6617da374711dec8cb38cc/eli5-0.10.1-py2.py3-none-any.whl (105kB)\n",
            "\u001b[K     |████████████████████████████████| 112kB 2.7MB/s \n",
            "\u001b[?25hRequirement already satisfied: jinja2 in /usr/local/lib/python3.6/dist-packages (from eli5) (2.11.1)\n",
            "Requirement already satisfied: six in /usr/local/lib/python3.6/dist-packages (from eli5) (1.12.0)\n",
            "Requirement already satisfied: numpy>=1.9.0 in /usr/local/lib/python3.6/dist-packages (from eli5) (1.17.5)\n",
            "Requirement already satisfied: scipy in /usr/local/lib/python3.6/dist-packages (from eli5) (1.4.1)\n",
            "Requirement already satisfied: attrs>16.0.0 in /usr/local/lib/python3.6/dist-packages (from eli5) (19.3.0)\n",
            "Requirement already satisfied: tabulate>=0.7.7 in /usr/local/lib/python3.6/dist-packages (from eli5) (0.8.6)\n",
            "Requirement already satisfied: graphviz in /usr/local/lib/python3.6/dist-packages (from eli5) (0.10.1)\n",
            "Requirement already satisfied: scikit-learn>=0.18 in /usr/local/lib/python3.6/dist-packages (from eli5) (0.22.1)\n",
            "Requirement already satisfied: MarkupSafe>=0.23 in /usr/local/lib/python3.6/dist-packages (from jinja2->eli5) (1.1.1)\n",
            "Requirement already satisfied: joblib>=0.11 in /usr/local/lib/python3.6/dist-packages (from scikit-learn>=0.18->eli5) (0.14.1)\n",
            "Installing collected packages: eli5\n",
            "Successfully installed eli5-0.10.1\n",
            "Requirement already satisfied: xgboost in /usr/local/lib/python3.6/dist-packages (0.90)\n",
            "Requirement already satisfied: scipy in /usr/local/lib/python3.6/dist-packages (from xgboost) (1.4.1)\n",
            "Requirement already satisfied: numpy in /usr/local/lib/python3.6/dist-packages (from xgboost) (1.17.5)\n"
          ],
          "name": "stdout"
        }
      ]
    },
    {
      "cell_type": "code",
      "metadata": {
        "id": "L2e61RqP8306",
        "colab_type": "code",
        "outputId": "a67026bb-d4d6-4166-8f7b-151c0f666b0a",
        "colab": {
          "base_uri": "https://localhost:8080/",
          "height": 34
        }
      },
      "source": [
        "cd '/content/drive/My Drive/Colab Notebooks/dw_matrix_two/dw_matrix_car/data'"
      ],
      "execution_count": 0,
      "outputs": [
        {
          "output_type": "stream",
          "text": [
            "/content/drive/My Drive/Colab Notebooks/dw_matrix_two/dw_matrix_car/data\n"
          ],
          "name": "stdout"
        }
      ]
    },
    {
      "cell_type": "code",
      "metadata": {
        "id": "CHUlE9nK9IPm",
        "colab_type": "code",
        "colab": {}
      },
      "source": [
        "import pandas as pd\n",
        "import numpy as np\n",
        "import matplotlib.pyplot as plt\n",
        "import seaborn as sns\n",
        "from sklearn.dummy import DummyRegressor\n",
        "from sklearn.tree import DecisionTreeRegressor\n",
        "from sklearn.metrics import mean_absolute_error as mae\n",
        "from sklearn.model_selection import cross_val_score, KFold\n",
        "from sklearn.ensemble import RandomForestRegressor\n",
        "\n",
        "import xgboost as xgb\n",
        "\n",
        "import eli5\n",
        "from eli5.sklearn import PermutationImportance"
      ],
      "execution_count": 0,
      "outputs": []
    },
    {
      "cell_type": "code",
      "metadata": {
        "id": "24MAh92f9Cnr",
        "colab_type": "code",
        "outputId": "eba19fa3-be6e-40e9-a36d-10e8f9da2e2d",
        "colab": {
          "base_uri": "https://localhost:8080/",
          "height": 34
        }
      },
      "source": [
        "df = pd.read_hdf('car.h5')\n",
        "df.shape"
      ],
      "execution_count": 0,
      "outputs": [
        {
          "output_type": "execute_result",
          "data": {
            "text/plain": [
              "(106494, 155)"
            ]
          },
          "metadata": {
            "tags": []
          },
          "execution_count": 5
        }
      ]
    },
    {
      "cell_type": "code",
      "metadata": {
        "id": "PT4O4z209Ego",
        "colab_type": "code",
        "outputId": "469d136b-6ef2-41e1-9858-9ee26b5ddc4d",
        "colab": {
          "base_uri": "https://localhost:8080/",
          "height": 34
        }
      },
      "source": [
        "df = df[df['price_currency']!='EUR']\n",
        "df.shape"
      ],
      "execution_count": 0,
      "outputs": [
        {
          "output_type": "execute_result",
          "data": {
            "text/plain": [
              "(106290, 155)"
            ]
          },
          "metadata": {
            "tags": []
          },
          "execution_count": 6
        }
      ]
    },
    {
      "cell_type": "code",
      "metadata": {
        "id": "xiM9uHIr9P9h",
        "colab_type": "code",
        "colab": {}
      },
      "source": [
        "SUFFIX_CAT = '__cat'\n",
        "for feat in df.columns:\n",
        "  if (isinstance(df[feat][0],list)):continue\n",
        "  factorized_values = df[feat].factorize()[0]\n",
        "  if SUFFIX_CAT in feat:\n",
        "    df[feat] =factorized_values\n",
        "  else:\n",
        "    df[feat+SUFFIX_CAT] = factorized_values"
      ],
      "execution_count": 0,
      "outputs": []
    },
    {
      "cell_type": "code",
      "metadata": {
        "id": "0HXlhygl98r4",
        "colab_type": "code",
        "outputId": "26ad9242-2533-4c75-ff3a-423d821c023b",
        "colab": {
          "base_uri": "https://localhost:8080/",
          "height": 34
        }
      },
      "source": [
        "cat_feats = [x for x in df.columns if SUFFIX_CAT in x]\n",
        "cat_feats = [x for x in cat_feats if 'price' not in x]\n",
        "len(cat_feats)"
      ],
      "execution_count": 0,
      "outputs": [
        {
          "output_type": "execute_result",
          "data": {
            "text/plain": [
              "151"
            ]
          },
          "metadata": {
            "tags": []
          },
          "execution_count": 10
        }
      ]
    },
    {
      "cell_type": "code",
      "metadata": {
        "id": "XqcV8Oyh9tbr",
        "colab_type": "code",
        "outputId": "2dc11d73-00c5-49bb-d147-e4766f23fa2e",
        "colab": {
          "base_uri": "https://localhost:8080/",
          "height": 34
        }
      },
      "source": [
        "X = df[cat_feats].values\n",
        "y = df[\"price_value\"].values\n",
        "model = DecisionTreeRegressor(max_depth=5)\n",
        "scores = cross_val_score(model,X,y,cv=3,scoring='neg_mean_absolute_error')\n",
        "np.mean(scores), np.std(scores)"
      ],
      "execution_count": 0,
      "outputs": [
        {
          "output_type": "execute_result",
          "data": {
            "text/plain": [
              "(-19566.588937368324, 90.6181486516617)"
            ]
          },
          "metadata": {
            "tags": []
          },
          "execution_count": 11
        }
      ]
    },
    {
      "cell_type": "code",
      "metadata": {
        "id": "aUxIhyI294TW",
        "colab_type": "code",
        "colab": {}
      },
      "source": [
        "def run_model(model,feats):\n",
        "  X = df[feats].values\n",
        "  y = df[\"price_value\"].values\n",
        "  scores = cross_val_score(model,X,y,cv=3,scoring='neg_mean_absolute_error')\n",
        "  return np.mean(scores), np.std(scores)"
      ],
      "execution_count": 0,
      "outputs": []
    },
    {
      "cell_type": "markdown",
      "metadata": {
        "id": "IiqhTFRn-i53",
        "colab_type": "text"
      },
      "source": [
        "##DecisionTree"
      ]
    },
    {
      "cell_type": "code",
      "metadata": {
        "id": "4et0qgqZ-Ocs",
        "colab_type": "code",
        "outputId": "459b9d0a-aa16-441d-bab6-85fe471b3f9c",
        "colab": {
          "base_uri": "https://localhost:8080/",
          "height": 34
        }
      },
      "source": [
        "run_model(DecisionTreeRegressor(max_depth=5),cat_feats)"
      ],
      "execution_count": 0,
      "outputs": [
        {
          "output_type": "execute_result",
          "data": {
            "text/plain": [
              "(-19566.58893736832, 90.61814865166077)"
            ]
          },
          "metadata": {
            "tags": []
          },
          "execution_count": 15
        }
      ]
    },
    {
      "cell_type": "markdown",
      "metadata": {
        "id": "-e2VITVj-obG",
        "colab_type": "text"
      },
      "source": [
        "## Random Forest"
      ]
    },
    {
      "cell_type": "code",
      "metadata": {
        "id": "7ED5ruqv-cyb",
        "colab_type": "code",
        "outputId": "5b8c229d-6379-4032-922a-0f6b855e68a7",
        "colab": {
          "base_uri": "https://localhost:8080/",
          "height": 34
        }
      },
      "source": [
        "run_model(RandomForestRegressor(max_depth=5, n_estimators=50,random_state=0),cat_feats)"
      ],
      "execution_count": 0,
      "outputs": [
        {
          "output_type": "execute_result",
          "data": {
            "text/plain": [
              "(-18734.2072708522, 109.87074106274046)"
            ]
          },
          "metadata": {
            "tags": []
          },
          "execution_count": 16
        }
      ]
    },
    {
      "cell_type": "markdown",
      "metadata": {
        "id": "qhGKJofJ-yf3",
        "colab_type": "text"
      },
      "source": [
        "## XGBoost"
      ]
    },
    {
      "cell_type": "code",
      "metadata": {
        "id": "kd_mmczn-vd1",
        "colab_type": "code",
        "outputId": "41b6e371-49af-4683-f80c-004e537334bb",
        "colab": {
          "base_uri": "https://localhost:8080/",
          "height": 87
        }
      },
      "source": [
        "xgb_params = {\n",
        "    'max_depth':5,\n",
        "    'n_estimators':50,\n",
        "    'learning_rate': 0.1,\n",
        "    'seed':0\n",
        "}\n",
        "\n",
        "model = xgb.XGBRegressor(**xgb_params)\n",
        "run_model(model,cat_feats)"
      ],
      "execution_count": 0,
      "outputs": [
        {
          "output_type": "stream",
          "text": [
            "[18:38:42] WARNING: /workspace/src/objective/regression_obj.cu:152: reg:linear is now deprecated in favor of reg:squarederror.\n",
            "[18:39:03] WARNING: /workspace/src/objective/regression_obj.cu:152: reg:linear is now deprecated in favor of reg:squarederror.\n",
            "[18:39:23] WARNING: /workspace/src/objective/regression_obj.cu:152: reg:linear is now deprecated in favor of reg:squarederror.\n"
          ],
          "name": "stdout"
        },
        {
          "output_type": "execute_result",
          "data": {
            "text/plain": [
              "(-13039.290196724838, 109.36715375706265)"
            ]
          },
          "metadata": {
            "tags": []
          },
          "execution_count": 17
        }
      ]
    },
    {
      "cell_type": "code",
      "metadata": {
        "id": "p5DYj08Z_hoy",
        "colab_type": "code",
        "outputId": "6a60bf0d-ab9c-4d48-ad05-3dbd60216ebf",
        "colab": {
          "base_uri": "https://localhost:8080/",
          "height": 404
        }
      },
      "source": [
        "model.fit(X,y)\n",
        "imp =  PermutationImportance(model, random_state=0).fit(X,y)\n",
        "eli5.show_weights(imp,feature_names=cat_feats)"
      ],
      "execution_count": 0,
      "outputs": [
        {
          "output_type": "stream",
          "text": [
            "[18:40:46] WARNING: /workspace/src/objective/regression_obj.cu:152: reg:linear is now deprecated in favor of reg:squarederror.\n"
          ],
          "name": "stdout"
        },
        {
          "output_type": "execute_result",
          "data": {
            "text/html": [
              "\n",
              "    <style>\n",
              "    table.eli5-weights tr:hover {\n",
              "        filter: brightness(85%);\n",
              "    }\n",
              "</style>\n",
              "\n",
              "\n",
              "\n",
              "    \n",
              "\n",
              "    \n",
              "\n",
              "    \n",
              "\n",
              "    \n",
              "\n",
              "    \n",
              "\n",
              "    \n",
              "\n",
              "\n",
              "    \n",
              "\n",
              "    \n",
              "\n",
              "    \n",
              "\n",
              "    \n",
              "\n",
              "    \n",
              "\n",
              "    \n",
              "\n",
              "\n",
              "    \n",
              "\n",
              "    \n",
              "\n",
              "    \n",
              "\n",
              "    \n",
              "\n",
              "    \n",
              "        <table class=\"eli5-weights eli5-feature-importances\" style=\"border-collapse: collapse; border: none; margin-top: 0em; table-layout: auto;\">\n",
              "    <thead>\n",
              "    <tr style=\"border: none;\">\n",
              "        <th style=\"padding: 0 1em 0 0.5em; text-align: right; border: none;\">Weight</th>\n",
              "        <th style=\"padding: 0 0.5em 0 0.5em; text-align: left; border: none;\">Feature</th>\n",
              "    </tr>\n",
              "    </thead>\n",
              "    <tbody>\n",
              "    \n",
              "        <tr style=\"background-color: hsl(120, 100.00%, 80.00%); border: none;\">\n",
              "            <td style=\"padding: 0 1em 0 0.5em; text-align: right; border: none;\">\n",
              "                0.1209\n",
              "                \n",
              "                    &plusmn; 0.0019\n",
              "                \n",
              "            </td>\n",
              "            <td style=\"padding: 0 0.5em 0 0.5em; text-align: left; border: none;\">\n",
              "                param_napęd__cat\n",
              "            </td>\n",
              "        </tr>\n",
              "    \n",
              "        <tr style=\"background-color: hsl(120, 100.00%, 80.40%); border: none;\">\n",
              "            <td style=\"padding: 0 1em 0 0.5em; text-align: right; border: none;\">\n",
              "                0.1175\n",
              "                \n",
              "                    &plusmn; 0.0030\n",
              "                \n",
              "            </td>\n",
              "            <td style=\"padding: 0 0.5em 0 0.5em; text-align: left; border: none;\">\n",
              "                param_rok-produkcji__cat\n",
              "            </td>\n",
              "        </tr>\n",
              "    \n",
              "        <tr style=\"background-color: hsl(120, 100.00%, 81.13%); border: none;\">\n",
              "            <td style=\"padding: 0 1em 0 0.5em; text-align: right; border: none;\">\n",
              "                0.1113\n",
              "                \n",
              "                    &plusmn; 0.0013\n",
              "                \n",
              "            </td>\n",
              "            <td style=\"padding: 0 0.5em 0 0.5em; text-align: left; border: none;\">\n",
              "                param_stan__cat\n",
              "            </td>\n",
              "        </tr>\n",
              "    \n",
              "        <tr style=\"background-color: hsl(120, 100.00%, 87.40%); border: none;\">\n",
              "            <td style=\"padding: 0 1em 0 0.5em; text-align: right; border: none;\">\n",
              "                0.0625\n",
              "                \n",
              "                    &plusmn; 0.0019\n",
              "                \n",
              "            </td>\n",
              "            <td style=\"padding: 0 0.5em 0 0.5em; text-align: left; border: none;\">\n",
              "                param_skrzynia-biegów__cat\n",
              "            </td>\n",
              "        </tr>\n",
              "    \n",
              "        <tr style=\"background-color: hsl(120, 100.00%, 88.82%); border: none;\">\n",
              "            <td style=\"padding: 0 1em 0 0.5em; text-align: right; border: none;\">\n",
              "                0.0527\n",
              "                \n",
              "                    &plusmn; 0.0016\n",
              "                \n",
              "            </td>\n",
              "            <td style=\"padding: 0 0.5em 0 0.5em; text-align: left; border: none;\">\n",
              "                param_faktura-vat__cat\n",
              "            </td>\n",
              "        </tr>\n",
              "    \n",
              "        <tr style=\"background-color: hsl(120, 100.00%, 89.81%); border: none;\">\n",
              "            <td style=\"padding: 0 1em 0 0.5em; text-align: right; border: none;\">\n",
              "                0.0461\n",
              "                \n",
              "                    &plusmn; 0.0015\n",
              "                \n",
              "            </td>\n",
              "            <td style=\"padding: 0 0.5em 0 0.5em; text-align: left; border: none;\">\n",
              "                param_moc__cat\n",
              "            </td>\n",
              "        </tr>\n",
              "    \n",
              "        <tr style=\"background-color: hsl(120, 100.00%, 92.90%); border: none;\">\n",
              "            <td style=\"padding: 0 1em 0 0.5em; text-align: right; border: none;\">\n",
              "                0.0275\n",
              "                \n",
              "                    &plusmn; 0.0008\n",
              "                \n",
              "            </td>\n",
              "            <td style=\"padding: 0 0.5em 0 0.5em; text-align: left; border: none;\">\n",
              "                param_marka-pojazdu__cat\n",
              "            </td>\n",
              "        </tr>\n",
              "    \n",
              "        <tr style=\"background-color: hsl(120, 100.00%, 93.73%); border: none;\">\n",
              "            <td style=\"padding: 0 1em 0 0.5em; text-align: right; border: none;\">\n",
              "                0.0230\n",
              "                \n",
              "                    &plusmn; 0.0004\n",
              "                \n",
              "            </td>\n",
              "            <td style=\"padding: 0 0.5em 0 0.5em; text-align: left; border: none;\">\n",
              "                param_typ__cat\n",
              "            </td>\n",
              "        </tr>\n",
              "    \n",
              "        <tr style=\"background-color: hsl(120, 100.00%, 93.80%); border: none;\">\n",
              "            <td style=\"padding: 0 1em 0 0.5em; text-align: right; border: none;\">\n",
              "                0.0227\n",
              "                \n",
              "                    &plusmn; 0.0007\n",
              "                \n",
              "            </td>\n",
              "            <td style=\"padding: 0 0.5em 0 0.5em; text-align: left; border: none;\">\n",
              "                feature_kamera-cofania__cat\n",
              "            </td>\n",
              "        </tr>\n",
              "    \n",
              "        <tr style=\"background-color: hsl(120, 100.00%, 94.49%); border: none;\">\n",
              "            <td style=\"padding: 0 1em 0 0.5em; text-align: right; border: none;\">\n",
              "                0.0191\n",
              "                \n",
              "                    &plusmn; 0.0007\n",
              "                \n",
              "            </td>\n",
              "            <td style=\"padding: 0 0.5em 0 0.5em; text-align: left; border: none;\">\n",
              "                param_pojemność-skokowa__cat\n",
              "            </td>\n",
              "        </tr>\n",
              "    \n",
              "        <tr style=\"background-color: hsl(120, 100.00%, 95.36%); border: none;\">\n",
              "            <td style=\"padding: 0 1em 0 0.5em; text-align: right; border: none;\">\n",
              "                0.0150\n",
              "                \n",
              "                    &plusmn; 0.0009\n",
              "                \n",
              "            </td>\n",
              "            <td style=\"padding: 0 0.5em 0 0.5em; text-align: left; border: none;\">\n",
              "                seller_name__cat\n",
              "            </td>\n",
              "        </tr>\n",
              "    \n",
              "        <tr style=\"background-color: hsl(120, 100.00%, 95.55%); border: none;\">\n",
              "            <td style=\"padding: 0 1em 0 0.5em; text-align: right; border: none;\">\n",
              "                0.0141\n",
              "                \n",
              "                    &plusmn; 0.0008\n",
              "                \n",
              "            </td>\n",
              "            <td style=\"padding: 0 0.5em 0 0.5em; text-align: left; border: none;\">\n",
              "                param_kod-silnika__cat\n",
              "            </td>\n",
              "        </tr>\n",
              "    \n",
              "        <tr style=\"background-color: hsl(120, 100.00%, 95.81%); border: none;\">\n",
              "            <td style=\"padding: 0 1em 0 0.5em; text-align: right; border: none;\">\n",
              "                0.0130\n",
              "                \n",
              "                    &plusmn; 0.0002\n",
              "                \n",
              "            </td>\n",
              "            <td style=\"padding: 0 0.5em 0 0.5em; text-align: left; border: none;\">\n",
              "                param_model-pojazdu__cat\n",
              "            </td>\n",
              "        </tr>\n",
              "    \n",
              "        <tr style=\"background-color: hsl(120, 100.00%, 96.05%); border: none;\">\n",
              "            <td style=\"padding: 0 1em 0 0.5em; text-align: right; border: none;\">\n",
              "                0.0119\n",
              "                \n",
              "                    &plusmn; 0.0004\n",
              "                \n",
              "            </td>\n",
              "            <td style=\"padding: 0 0.5em 0 0.5em; text-align: left; border: none;\">\n",
              "                feature_wspomaganie-kierownicy__cat\n",
              "            </td>\n",
              "        </tr>\n",
              "    \n",
              "        <tr style=\"background-color: hsl(120, 100.00%, 96.29%); border: none;\">\n",
              "            <td style=\"padding: 0 1em 0 0.5em; text-align: right; border: none;\">\n",
              "                0.0109\n",
              "                \n",
              "                    &plusmn; 0.0003\n",
              "                \n",
              "            </td>\n",
              "            <td style=\"padding: 0 0.5em 0 0.5em; text-align: left; border: none;\">\n",
              "                param_wersja__cat\n",
              "            </td>\n",
              "        </tr>\n",
              "    \n",
              "        <tr style=\"background-color: hsl(120, 100.00%, 96.64%); border: none;\">\n",
              "            <td style=\"padding: 0 1em 0 0.5em; text-align: right; border: none;\">\n",
              "                0.0095\n",
              "                \n",
              "                    &plusmn; 0.0007\n",
              "                \n",
              "            </td>\n",
              "            <td style=\"padding: 0 0.5em 0 0.5em; text-align: left; border: none;\">\n",
              "                feature_czujniki-parkowania-przednie__cat\n",
              "            </td>\n",
              "        </tr>\n",
              "    \n",
              "        <tr style=\"background-color: hsl(120, 100.00%, 96.77%); border: none;\">\n",
              "            <td style=\"padding: 0 1em 0 0.5em; text-align: right; border: none;\">\n",
              "                0.0089\n",
              "                \n",
              "                    &plusmn; 0.0003\n",
              "                \n",
              "            </td>\n",
              "            <td style=\"padding: 0 0.5em 0 0.5em; text-align: left; border: none;\">\n",
              "                feature_asystent-pasa-ruchu__cat\n",
              "            </td>\n",
              "        </tr>\n",
              "    \n",
              "        <tr style=\"background-color: hsl(120, 100.00%, 96.95%); border: none;\">\n",
              "            <td style=\"padding: 0 1em 0 0.5em; text-align: right; border: none;\">\n",
              "                0.0082\n",
              "                \n",
              "                    &plusmn; 0.0002\n",
              "                \n",
              "            </td>\n",
              "            <td style=\"padding: 0 0.5em 0 0.5em; text-align: left; border: none;\">\n",
              "                feature_regulowane-zawieszenie__cat\n",
              "            </td>\n",
              "        </tr>\n",
              "    \n",
              "        <tr style=\"background-color: hsl(120, 100.00%, 96.99%); border: none;\">\n",
              "            <td style=\"padding: 0 1em 0 0.5em; text-align: right; border: none;\">\n",
              "                0.0081\n",
              "                \n",
              "                    &plusmn; 0.0004\n",
              "                \n",
              "            </td>\n",
              "            <td style=\"padding: 0 0.5em 0 0.5em; text-align: left; border: none;\">\n",
              "                feature_system-start-stop__cat\n",
              "            </td>\n",
              "        </tr>\n",
              "    \n",
              "        <tr style=\"background-color: hsl(120, 100.00%, 97.23%); border: none;\">\n",
              "            <td style=\"padding: 0 1em 0 0.5em; text-align: right; border: none;\">\n",
              "                0.0072\n",
              "                \n",
              "                    &plusmn; 0.0004\n",
              "                \n",
              "            </td>\n",
              "            <td style=\"padding: 0 0.5em 0 0.5em; text-align: left; border: none;\">\n",
              "                feature_światła-led__cat\n",
              "            </td>\n",
              "        </tr>\n",
              "    \n",
              "    \n",
              "        \n",
              "            <tr style=\"background-color: hsl(120, 100.00%, 97.23%); border: none;\">\n",
              "                <td colspan=\"2\" style=\"padding: 0 0.5em 0 0.5em; text-align: center; border: none; white-space: nowrap;\">\n",
              "                    <i>&hellip; 131 more &hellip;</i>\n",
              "                </td>\n",
              "            </tr>\n",
              "        \n",
              "    \n",
              "    </tbody>\n",
              "</table>\n",
              "    \n",
              "\n",
              "    \n",
              "\n",
              "\n",
              "    \n",
              "\n",
              "    \n",
              "\n",
              "    \n",
              "\n",
              "    \n",
              "\n",
              "    \n",
              "\n",
              "    \n",
              "\n",
              "\n",
              "\n"
            ],
            "text/plain": [
              "<IPython.core.display.HTML object>"
            ]
          },
          "metadata": {
            "tags": []
          },
          "execution_count": 20
        }
      ]
    },
    {
      "cell_type": "code",
      "metadata": {
        "id": "A02-fwr__87y",
        "colab_type": "code",
        "outputId": "eac92b3f-67b8-4838-f2c1-9e91cc33f541",
        "colab": {
          "base_uri": "https://localhost:8080/",
          "height": 87
        }
      },
      "source": [
        "\tfeats = ['param_napęd__cat',\n",
        "'param_rok-produkcji__cat',\n",
        "'param_stan__cat',\n",
        "'param_skrzynia-biegów__cat',\n",
        "'param_faktura-vat__cat',\n",
        "'param_moc__cat',\n",
        "'param_marka-pojazdu__cat',\n",
        "'param_typ__cat',\n",
        "'feature_kamera-cofania__cat',\n",
        "'param_pojemność-skokowa__cat',\n",
        "'seller_name__cat',\n",
        "'param_kod-silnika__cat',\n",
        "'param_model-pojazdu__cat',\n",
        "'feature_wspomaganie-kierownicy__cat',\n",
        "'param_wersja__cat',\n",
        "'feature_czujniki-parkowania-przednie__cat',\n",
        "'feature_asystent-pasa-ruchu__cat',\n",
        "'feature_regulowane-zawieszenie__cat',\n",
        "'feature_system-start-stop__cat',\n",
        "'feature_światła-led']\n",
        "run_model(model,feats)"
      ],
      "execution_count": 0,
      "outputs": [
        {
          "output_type": "stream",
          "text": [
            "[18:56:45] WARNING: /workspace/src/objective/regression_obj.cu:152: reg:linear is now deprecated in favor of reg:squarederror.\n",
            "[18:56:50] WARNING: /workspace/src/objective/regression_obj.cu:152: reg:linear is now deprecated in favor of reg:squarederror.\n",
            "[18:56:54] WARNING: /workspace/src/objective/regression_obj.cu:152: reg:linear is now deprecated in favor of reg:squarederror.\n"
          ],
          "name": "stdout"
        },
        {
          "output_type": "execute_result",
          "data": {
            "text/plain": [
              "(-13240.835942843716, 95.7039217631258)"
            ]
          },
          "metadata": {
            "tags": []
          },
          "execution_count": 21
        }
      ]
    },
    {
      "cell_type": "code",
      "metadata": {
        "id": "tJchld3PDqEA",
        "colab_type": "code",
        "outputId": "3d419f7a-af28-4579-ebd3-2364e69dac01",
        "colab": {
          "base_uri": "https://localhost:8080/",
          "height": 193
        }
      },
      "source": [
        "df['param_rok-produkcji'].unique()"
      ],
      "execution_count": 0,
      "outputs": [
        {
          "output_type": "execute_result",
          "data": {
            "text/plain": [
              "array(['2018', '2011', '2015', '2009', '2017', '2012', '2013', '2007',\n",
              "       '2001', '2016', '2006', '2008', '2004', '1999', '2000', '2010',\n",
              "       '2005', '2002', '1998', '2014', '2003', '1982', '1995', '1997',\n",
              "       '1992', '1993', '1994', '1996', '1989', '1988', '1967', '1987',\n",
              "       '1959', '1990', '1991', '1974', None, '1975', '1973', '1985',\n",
              "       '1984', '1986', '1981', '1979', '1960', '1983', '1978', '1964',\n",
              "       '1980', '1972', '1969', '1956', '1966', '1977', '1971', '1963',\n",
              "       '1953', '1961', '1952', '1949', '1976', '1965', '1937', '1968',\n",
              "       '1958', '1962', '1955', '1970', '1933', '1929', '1957', '1944',\n",
              "       '1954', '1932', '1936', '1947', '1948'], dtype=object)"
            ]
          },
          "metadata": {
            "tags": []
          },
          "execution_count": 23
        }
      ]
    },
    {
      "cell_type": "code",
      "metadata": {
        "id": "E5nfD4UqD4Ie",
        "colab_type": "code",
        "colab": {}
      },
      "source": [
        "df['param_rok-produkcji'] = df['param_rok-produkcji'].map(lambda x:-1 if str(x)=='None' else int(x))"
      ],
      "execution_count": 0,
      "outputs": []
    },
    {
      "cell_type": "code",
      "metadata": {
        "id": "wqVHvAyTEbLU",
        "colab_type": "code",
        "outputId": "b165fd6e-a72e-4d88-eafa-ec98259aaa35",
        "colab": {
          "base_uri": "https://localhost:8080/",
          "height": 87
        }
      },
      "source": [
        "feats = ['param_napęd__cat',\n",
        "'param_rok-produkcji',\n",
        "'param_stan__cat',\n",
        "'param_skrzynia-biegów__cat',\n",
        "'param_faktura-vat__cat',\n",
        "'param_moc__cat',\n",
        "'param_marka-pojazdu__cat',\n",
        "'param_typ__cat',\n",
        "'feature_kamera-cofania__cat',\n",
        "'param_pojemność-skokowa__cat',\n",
        "'seller_name__cat',\n",
        "'param_kod-silnika__cat',\n",
        "'param_model-pojazdu__cat',\n",
        "'feature_wspomaganie-kierownicy__cat',\n",
        "'param_wersja__cat',\n",
        "'feature_czujniki-parkowania-przednie__cat',\n",
        "'feature_asystent-pasa-ruchu__cat',\n",
        "'feature_regulowane-zawieszenie__cat',\n",
        "'feature_system-start-stop__cat',\n",
        "'feature_światła-led']\n",
        "run_model(model,feats)"
      ],
      "execution_count": 0,
      "outputs": [
        {
          "output_type": "stream",
          "text": [
            "[19:00:41] WARNING: /workspace/src/objective/regression_obj.cu:152: reg:linear is now deprecated in favor of reg:squarederror.\n",
            "[19:00:45] WARNING: /workspace/src/objective/regression_obj.cu:152: reg:linear is now deprecated in favor of reg:squarederror.\n",
            "[19:00:50] WARNING: /workspace/src/objective/regression_obj.cu:152: reg:linear is now deprecated in favor of reg:squarederror.\n"
          ],
          "name": "stdout"
        },
        {
          "output_type": "execute_result",
          "data": {
            "text/plain": [
              "(-11197.83713694348, 98.22041147876314)"
            ]
          },
          "metadata": {
            "tags": []
          },
          "execution_count": 26
        }
      ]
    },
    {
      "cell_type": "code",
      "metadata": {
        "id": "GV9a6KRdEjlL",
        "colab_type": "code",
        "outputId": "227e2da5-22eb-4630-902d-b612d4b8d146",
        "colab": {
          "base_uri": "https://localhost:8080/",
          "height": 1000
        }
      },
      "source": [
        "df['param_moc'].unique()"
      ],
      "execution_count": 0,
      "outputs": [
        {
          "output_type": "execute_result",
          "data": {
            "text/plain": [
              "array(['90 KM', '115 KM', '262 KM', '110 KM', '310 KM', '105 KM',\n",
              "       '140 KM', '175 KM', '125 KM', '185 KM', '190 KM', '440 KM',\n",
              "       '141 KM', '200 KM', '224 KM', '75 KM', '99 KM', '184 KM', '109 KM',\n",
              "       '233 KM', '116 KM', '68 KM', '286 KM', '126 KM', '160 KM',\n",
              "       '135 KM', '120 KM', '272 KM', None, '150 KM', '180 KM', '136 KM',\n",
              "       '102 KM', '131 KM', '218 KM', '245 KM', '170 KM', '112 KM',\n",
              "       '250 KM', '252 KM', '73 KM', '100 KM', '313 KM', '101 KM',\n",
              "       '285 KM', '70 KM', '383 KM', '174 KM', '277 KM', '132 KM',\n",
              "       '130 KM', '215 KM', '60 KM', '330 KM', '163 KM', '177 KM', '98 KM',\n",
              "       '78 KM', '189 KM', '156 KM', '143 KM', '69 KM', '113 KM', '65 KM',\n",
              "       '122 KM', '82 KM', '251 KM', '95 KM', '197 KM', '235 KM', '238 KM',\n",
              "       '171 KM', '381 KM', '400 KM', '178 KM', '80 KM', '165 KM', '85 KM',\n",
              "       '258 KM', '142 KM', '204 KM', '124 KM', '55 KM', '144 KM',\n",
              "       '231 KM', '248 KM', '152 KM', '181 KM', '210 KM', '340 KM',\n",
              "       '129 KM', '147 KM', '50 KM', '54 KM', '290 KM', '306 KM', '193 KM',\n",
              "       '77 KM', '164 KM', '96 KM', '194 KM', '111 KM', '166 KM', '206 KM',\n",
              "       '118 KM', '360 KM', '211 KM', '271 KM', '455 KM', '280 KM',\n",
              "       '106 KM', '114 KM', '421 KM', '74 KM', '213 KM', '121 KM',\n",
              "       '275 KM', '435 KM', '384 KM', '326 KM', '88 KM', '220 KM',\n",
              "       '260 KM', '64 KM', '86 KM', '128 KM', '256 KM', '240 KM', '244 KM',\n",
              "       '162 KM', '237 KM', '350 KM', '35 KM', '265 KM', '202 KM',\n",
              "       '133 KM', '83 KM', '117 KM', '146 KM', '92 KM', '192 KM', '145 KM',\n",
              "       '525 KM', '254 KM', '182 KM', '328 KM', '367 KM', '148 KM',\n",
              "       '456 KM', '97 KM', '270 KM', '107 KM', '108 KM', '203 KM',\n",
              "       '155 KM', '94 KM', '93 KM', '241 KM', '20 KM', '71 KM', '173 KM',\n",
              "       '58 KM', '205 KM', '236 KM', '1 400 KM', '557 KM', '84 KM',\n",
              "       '457 KM', '72 KM', '295 KM', '134 KM', '425 KM', '228 KM', '81 KM',\n",
              "       '230 KM', '201 KM', '87 KM', '234 KM', '299 KM', '585 KM',\n",
              "       '209 KM', '370 KM', '6 600 KM', '305 KM', '382 KM', '560 KM',\n",
              "       '158 KM', '176 KM', '320 KM', '225 KM', '62 KM', '255 KM',\n",
              "       '300 KM', '354 KM', '45 KM', '420 KM', '510 KM', '243 KM',\n",
              "       '239 KM', '468 KM', '409 KM', '24 KM', '335 KM', '605 KM',\n",
              "       '410 KM', '416 KM', '183 KM', '303 KM', '59 KM', '4 KM', '283 KM',\n",
              "       '385 KM', '104 KM', '127 KM', '278 KM', '344 KM', '365 KM',\n",
              "       '333 KM', '680 KM', '161 KM', '195 KM', '214 KM', '66 KM',\n",
              "       '170 000 KM', '219 KM', '89 KM', '41 KM', '249 KM', '388 KM',\n",
              "       '103 KM', '217 KM', '570 KM', '625 KM', '364 KM', '450 KM',\n",
              "       '138 KM', '253 KM', '67 KM', '157 KM', '405 KM', '517 KM',\n",
              "       '319 KM', '612 KM', '188 KM', '710 KM', '274 KM', '186 KM',\n",
              "       '139 KM', '11 000 KM', '1 006 KM', '153 KM', '1 430 KM', '323 KM',\n",
              "       '430 KM', '329 KM', '196 KM', '57 KM', '507 KM', '207 KM',\n",
              "       '489 KM', '460 KM', '408 KM', '308 KM', '359 KM', '312 KM',\n",
              "       '179 600 KM', '149 KM', '550 KM', '520 KM', '380 KM', '297 KM',\n",
              "       '347 KM', '259 KM', '212 KM', '343 KM', '309 KM', '53 KM',\n",
              "       '169 KM', '208 KM', '76 KM', '449 KM', '47 KM', '338 KM',\n",
              "       '1 995 KM', '470 KM', '151 KM', '168 KM', '600 KM', '660 KM',\n",
              "       '48 KM', '264 KM', '315 KM', '232 KM', '63 KM', '630 KM', '51 KM',\n",
              "       '1 156 KM', '351 KM', '442 KM', '191 KM', '5 KM', '91 KM', '21 KM',\n",
              "       '407 KM', '284 KM', '346 KM', '717 KM', '276 KM', '431 KM',\n",
              "       '179 KM', '223 KM', '40 KM', '325 KM', '11 KM', '268 KM', '640 KM',\n",
              "       '292 KM', '1 KM', '316 KM', '477 KM', '11 555 KM', '167 KM',\n",
              "       '390 KM', '226 KM', '317 KM', '172 KM', '187 KM', '1 005 KM',\n",
              "       '500 KM', '6 934 KM', '289 KM', '345 KM', '558 KM', '267 KM',\n",
              "       '540 KM', '9 KM', '279 KM', '334 KM', '137 KM', '287 KM', '10 KM',\n",
              "       '401 KM', '199 KM', '544 KM', '298 KM', '394 KM', '780 KM',\n",
              "       '123 KM', '530 KM', '426 KM', '307 KM', '222 KM', '79 KM',\n",
              "       '399 KM', '263 KM', '327 KM', '198 KM', '1 998 KM', '404 KM',\n",
              "       '30 KM', '502 KM', '469 KM', '1 122 KM', '3 KM', '386 KM', '61 KM',\n",
              "       '154 KM', '269 KM', '10 731 KM', '311 KM', '480 KM', '376 KM',\n",
              "       '519 KM', '361 KM', '770 KM', '453 KM', '1 600 KM', '281 KM',\n",
              "       '294 KM', '441 KM', '332 KM', '247 KM', '227 KM', '800 KM',\n",
              "       '288 KM', '337 KM', '324 KM', '362 KM', '23 KM', '242 KM',\n",
              "       '357 KM', '39 KM', '575 KM', '998 KM', '273 KM', '56 KM', '119 KM',\n",
              "       '462 KM', '43 KM', '355 KM', '52 KM', '387 KM', '566 KM', '12 KM',\n",
              "       '439 KM', '352 KM', '422 KM', '296 KM', '304 KM', '555 KM',\n",
              "       '551 KM', '485 KM', '42 KM', '610 KM', '397 KM', '221 KM',\n",
              "       '348 KM', '432 KM', '37 KM', '349 KM', '302 KM', '356 KM',\n",
              "       '2 100 KM', '476 KM', '975 KM', '369 KM', '486 KM', '246 KM',\n",
              "       '3 700 KM', '372 KM', '318 KM', '395 KM', '514 KM', '14 800 KM',\n",
              "       '406 KM', '412 KM', '8 498 KM', '342 KM', '9 000 KM', '1 254 KM',\n",
              "       '445 KM', '13 KM', '2 800 KM', '229 KM', '282 KM', '495 KM',\n",
              "       '378 KM', '490 KM', '368 KM', '472 KM', '375 KM', '7 500 KM',\n",
              "       '363 KM', '650 KM', '159 KM', '1 110 KM', '44 KM', '434 KM',\n",
              "       '571 KM', '543 848 KM', '707 KM', '301 KM', '2 000 KM', '216 KM',\n",
              "       '1 100 KM', '36 KM', '266 KM', '2 300 KM', '609 KM', '46 KM',\n",
              "       '1 116 KM', '1 300 KM', '900 KM', '339 KM', '475 KM', '565 KM',\n",
              "       '396 KM', '8 500 KM', '465 KM', '685 KM', '437 KM', '257 KM',\n",
              "       '5 100 KM', '371 KM', '2 938 KM', '492 KM', '411 KM', '526 KM',\n",
              "       '27 KM', '8 KM', '549 KM', '12 648 KM', '261 KM', '177 000 KM',\n",
              "       '10 000 KM', '293 KM', '1 984 KM', '2 018 KM', '175 000 KM',\n",
              "       '1 900 KM', '1 360 KM', '581 KM', '1 781 KM', '28 KM',\n",
              "       '174 000 KM', '501 KM', '504 KM', '31 KM', '1 991 KM', '466 KM',\n",
              "       '576 KM', '9 600 KM', '415 KM', '7 700 KM', '10 500 KM',\n",
              "       '1 198 KM', '799 KM', '18 KM', '447 KM', '366 KM', '15 KM',\n",
              "       '2 465 KM', '580 KM', '1 136 KM', '136 000 KM', '11 200 KM',\n",
              "       '590 KM', '564 KM', '1 000 KM', '1 500 KM', '38 KM', '291 KM',\n",
              "       '2 840 KM', '2 311 KM', '1 424 KM', '745 KM', '14 KM', '321 KM',\n",
              "       '436 KM', '314 KM', '584 KM', '336 KM', '25 KM', '140 000 KM',\n",
              "       '531 KM', '2 KM', '1 540 KM', '529 KM', '467 KM', '478 KM',\n",
              "       '8 568 KM', '322 KM', '140 105 KM'], dtype=object)"
            ]
          },
          "metadata": {
            "tags": []
          },
          "execution_count": 27
        }
      ]
    },
    {
      "cell_type": "code",
      "metadata": {
        "id": "av6xzhH2ExoJ",
        "colab_type": "code",
        "colab": {}
      },
      "source": [
        "df['param_moc'] = df['param_moc'].map(lambda x:-1 if str(x)=='None' else int(x.split(' ')[0]))"
      ],
      "execution_count": 0,
      "outputs": []
    },
    {
      "cell_type": "code",
      "metadata": {
        "id": "cXJ0-KOAFF42",
        "colab_type": "code",
        "outputId": "7202b937-c45a-44cf-ab83-f795518000e2",
        "colab": {
          "base_uri": "https://localhost:8080/",
          "height": 87
        }
      },
      "source": [
        "feats = ['param_napęd__cat',\n",
        "'param_rok-produkcji',\n",
        "'param_stan__cat',\n",
        "'param_skrzynia-biegów__cat',\n",
        "'param_faktura-vat__cat',\n",
        "'param_moc',\n",
        "'param_marka-pojazdu__cat',\n",
        "'param_typ__cat',\n",
        "'feature_kamera-cofania__cat',\n",
        "'param_pojemność-skokowa__cat',\n",
        "'seller_name__cat',\n",
        "'param_kod-silnika__cat',\n",
        "'param_model-pojazdu__cat',\n",
        "'feature_wspomaganie-kierownicy__cat',\n",
        "'param_wersja__cat',\n",
        "'feature_czujniki-parkowania-przednie__cat',\n",
        "'feature_asystent-pasa-ruchu__cat',\n",
        "'feature_regulowane-zawieszenie__cat',\n",
        "'feature_system-start-stop__cat',\n",
        "'feature_światła-led']\n",
        "run_model(model,feats)"
      ],
      "execution_count": 0,
      "outputs": [
        {
          "output_type": "stream",
          "text": [
            "[19:03:33] WARNING: /workspace/src/objective/regression_obj.cu:152: reg:linear is now deprecated in favor of reg:squarederror.\n",
            "[19:03:37] WARNING: /workspace/src/objective/regression_obj.cu:152: reg:linear is now deprecated in favor of reg:squarederror.\n",
            "[19:03:42] WARNING: /workspace/src/objective/regression_obj.cu:152: reg:linear is now deprecated in favor of reg:squarederror.\n"
          ],
          "name": "stdout"
        },
        {
          "output_type": "execute_result",
          "data": {
            "text/plain": [
              "(-9602.94111071797, 57.96672683246094)"
            ]
          },
          "metadata": {
            "tags": []
          },
          "execution_count": 29
        }
      ]
    },
    {
      "cell_type": "code",
      "metadata": {
        "id": "LpHjkGVGFNql",
        "colab_type": "code",
        "colab": {}
      },
      "source": [
        "df['param_pojemność-skokowa'].unique()\n",
        "df['param_pojemność-skokowa'] = df['param_pojemność-skokowa'].map(lambda x:-1 if str(x)=='None' else int(x.split('cm')[0].replace(' ','')))"
      ],
      "execution_count": 0,
      "outputs": []
    },
    {
      "cell_type": "code",
      "metadata": {
        "id": "EzCTpUQrFeiz",
        "colab_type": "code",
        "outputId": "1b7e9911-1627-4c3a-c114-de7bf346adea",
        "colab": {
          "base_uri": "https://localhost:8080/",
          "height": 87
        }
      },
      "source": [
        "feats = ['param_napęd__cat',\n",
        "'param_rok-produkcji',\n",
        "'param_stan__cat',\n",
        "'param_skrzynia-biegów__cat',\n",
        "'param_faktura-vat__cat',\n",
        "'param_moc',\n",
        "'param_marka-pojazdu__cat',\n",
        "'param_typ__cat',\n",
        "'feature_kamera-cofania__cat',\n",
        "'param_pojemność-skokowa',\n",
        "'seller_name__cat',\n",
        "'param_kod-silnika__cat',\n",
        "'param_model-pojazdu__cat',\n",
        "'feature_wspomaganie-kierownicy__cat',\n",
        "'param_wersja__cat',\n",
        "'feature_czujniki-parkowania-przednie__cat',\n",
        "'feature_asystent-pasa-ruchu__cat',\n",
        "'feature_regulowane-zawieszenie__cat',\n",
        "'feature_system-start-stop__cat',\n",
        "'feature_światła-led']\n",
        "run_model(model,feats)"
      ],
      "execution_count": 0,
      "outputs": [
        {
          "output_type": "stream",
          "text": [
            "[19:06:13] WARNING: /workspace/src/objective/regression_obj.cu:152: reg:linear is now deprecated in favor of reg:squarederror.\n",
            "[19:06:17] WARNING: /workspace/src/objective/regression_obj.cu:152: reg:linear is now deprecated in favor of reg:squarederror.\n",
            "[19:06:21] WARNING: /workspace/src/objective/regression_obj.cu:152: reg:linear is now deprecated in favor of reg:squarederror.\n"
          ],
          "name": "stdout"
        },
        {
          "output_type": "execute_result",
          "data": {
            "text/plain": [
              "(-9449.513980284812, 81.47168211987172)"
            ]
          },
          "metadata": {
            "tags": []
          },
          "execution_count": 33
        }
      ]
    },
    {
      "cell_type": "code",
      "metadata": {
        "id": "Ih0d1WV9F0nn",
        "colab_type": "code",
        "colab": {}
      },
      "source": [
        "df[''].unique()"
      ],
      "execution_count": 0,
      "outputs": []
    }
  ]
}